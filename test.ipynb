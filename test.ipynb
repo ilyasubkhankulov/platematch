{
 "cells": [
  {
   "cell_type": "code",
   "execution_count": 1,
   "metadata": {},
   "outputs": [],
   "source": [
    "from license_plate_detection import get_license_plate"
   ]
  },
  {
   "cell_type": "code",
   "execution_count": 2,
   "metadata": {},
   "outputs": [
    {
     "data": {
      "text/plain": [
       "Response(status=<ResponseStatus.OK: 200>, data=LicensePlateData(processing_time=37.969, results=[{'box': {'xmin': 897, 'ymin': 578, 'xmax': 980, 'ymax': 623}, 'plate': '40800f3', 'region': {'code': 'us-ca', 'score': 0.846}, 'score': 0.899, 'candidates': [{'score': 0.899, 'plate': '40800f3'}], 'dscore': 0.857, 'vehicle': {'score': 0.624, 'type': 'Sedan', 'box': {'xmin': 121, 'ymin': 159, 'xmax': 1114, 'ymax': 699}}}], filename='2144_1I7ap_Screenshot_2023-11-04_at_14.10.59.jpg', version=1, camera_id=None, timestamp='2023-11-04T21:44:53.955523Z'))"
      ]
     },
     "execution_count": 2,
     "metadata": {},
     "output_type": "execute_result"
    }
   ],
   "source": [
    "get_license_plate(open(\"/Users/vadimchashechnikov/Desktop/Screenshot 2023-11-04 at 14.10.59.png\", \"rb\"))"
   ]
  },
  {
   "cell_type": "code",
   "execution_count": 1,
   "metadata": {},
   "outputs": [],
   "source": [
    "from convert_image import heic_to_png_buffer"
   ]
  },
  {
   "cell_type": "code",
   "execution_count": 3,
   "metadata": {},
   "outputs": [],
   "source": [
    "from PIL import Image"
   ]
  },
  {
   "cell_type": "code",
   "execution_count": 6,
   "metadata": {},
   "outputs": [],
   "source": [
    "Image.open(heic_to_png_buffer(\"/Users/vadimchashechnikov/Desktop/heic.heic\")).save(\"a.png\")"
   ]
  },
  {
   "cell_type": "code",
   "execution_count": null,
   "metadata": {},
   "outputs": [],
   "source": []
  }
 ],
 "metadata": {
  "kernelspec": {
   "display_name": "base",
   "language": "python",
   "name": "python3"
  },
  "language_info": {
   "codemirror_mode": {
    "name": "ipython",
    "version": 3
   },
   "file_extension": ".py",
   "mimetype": "text/x-python",
   "name": "python",
   "nbconvert_exporter": "python",
   "pygments_lexer": "ipython3",
   "version": "3.9.18"
  }
 },
 "nbformat": 4,
 "nbformat_minor": 2
}
