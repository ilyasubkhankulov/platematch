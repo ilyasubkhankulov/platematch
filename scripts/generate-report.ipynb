{
 "cells": [
  {
   "cell_type": "markdown",
   "metadata": {},
   "source": [
    "#### Download all images from FTP to local filesystem"
   ]
  },
  {
   "cell_type": "code",
   "execution_count": null,
   "metadata": {},
   "outputs": [],
   "source": [
    "import os\n",
    "\n",
    "from dotenv import load_dotenv\n",
    "from ftp import SingletonFTP\n",
    "\n",
    "load_dotenv()\n",
    "host = os.getenv('FTP_HOST')\n",
    "username = os.getenv('FTP_USERNAME')\n",
    "password = os.getenv('FTP_PASSWORD')\n",
    "\n",
    "\n",
    "ftp = SingletonFTP(host, username, password)\n",
    "ftp.download_all('/files/files-mailseth', 'tmp')"
   ]
  },
  {
   "cell_type": "markdown",
   "metadata": {},
   "source": [
    "### extract metadata from filename"
   ]
  },
  {
   "cell_type": "code",
   "execution_count": null,
   "metadata": {},
   "outputs": [],
   "source": [
    "import astral\n",
    "from astral.sun import sun\n",
    "from pytz import timezone\n",
    "location = astral.LocationInfo(\n",
    "    \"Oakland\", \"USA\", \"US/Pacific\", 37.8044, -122.2712\n",
    ")"
   ]
  },
  {
   "cell_type": "code",
   "execution_count": null,
   "metadata": {},
   "outputs": [],
   "source": [
    "from datetime import datetime\n",
    "\n",
    "image_dir = 'tmp'\n",
    "\n",
    "\n",
    "image_files_list = [{'local_path': os.path.join(image_dir, f)}\n",
    "               for f in os.listdir(image_dir) if f.endswith('.jpg')]\n",
    "\n",
    "for output in image_files_list:\n",
    "    filename = output['local_path'].split('/')[-1]\n",
    "    camera_name, date, hour, minutes = filename.split('_')[3], filename.split(\n",
    "        '_')[4], filename.split('_')[7], filename.split('_')[8].split('.')[0]\n",
    "    seconds = filename.split('_')[8].split('.')[1][0:2]\n",
    "    year, month, day = date.split('-')\n",
    "    output['camera_name'] = camera_name\n",
    "    datetime_obj = datetime(int(year), int(month), int(\n",
    "        day), int(hour), int(minutes), int(seconds))\n",
    "    output['datetime'] = datetime_obj\n",
    "    # Use astral library to get sun information for the specific date and location\n",
    "    s = sun(location.observer, date=output['datetime'].date(\n",
    "    ), tzinfo=timezone('US/Pacific'))\n",
    "\n",
    "    output['S3_key'] = camera_name + '_' + datetime_obj.strftime('%Y%m%d_%H%M%S') + '.jpg'\n",
    "\n",
    "    # Classify the lighting based on the sun information\n",
    "    if s['dawn'].time() <= output['datetime'].time() < s['sunrise'].time():\n",
    "        output['lighting'] = 'dawn'\n",
    "    elif s['sunrise'].time() <= output['datetime'].time() < s['sunset'].time():\n",
    "        output['lighting'] = 'day'\n",
    "    elif s['sunset'].time() <= output['datetime'].time() < s['dusk'].time():\n",
    "        output['lighting'] = 'dusk'\n",
    "    else:\n",
    "        output['lighting'] = 'night'"
   ]
  },
  {
   "cell_type": "markdown",
   "metadata": {},
   "source": [
    "### Detect objects in frames"
   ]
  },
  {
   "cell_type": "code",
   "execution_count": null,
   "metadata": {},
   "outputs": [],
   "source": [
    "from object_detection import object_detection_runpod\n",
    "from tqdm import tqdm\n",
    "\n",
    "from file_helper import write_file_to_s3, get_presigned_url\n",
    "\n",
    "\n",
    "image_files_iter = iter(image_files_list)\n",
    "\n",
    "output_list = []\n",
    "\n",
    "image_files_in_output_list = [output['image_file'] for output in output_list]\n",
    "\n",
    "for image_file in tqdm(image_files_iter):\n",
    "    if image_file not in image_files_in_output_list:\n",
    "        write_file_to_s3(image_file['S3_key'], image_file['local_path'])\n",
    "        image_url = get_presigned_url(image_file['S3_key'])\n",
    "\n",
    "        detection_result = object_detection_runpod(image_url)\n",
    "        detection_result_json = detection_result.pandas().xyxy[0].to_json()\n",
    "        print('image_file', image_file)\n",
    "        print('detection_result_json', detection_result_json)\n",
    "        output_list.append({\n",
    "            'image_file': image_file,\n",
    "            'detection_result': detection_result_json\n",
    "        })\n",
    "        # Explicitly delete the detection_result and call the garbage collector\n",
    "        del detection_result"
   ]
  }
 ],
 "metadata": {
  "kernelspec": {
   "display_name": "Python 3 (ipykernel)",
   "language": "python",
   "name": "python3"
  },
  "language_info": {
   "codemirror_mode": {
    "name": "ipython",
    "version": 3
   },
   "file_extension": ".py",
   "mimetype": "text/x-python",
   "name": "python",
   "nbconvert_exporter": "python",
   "pygments_lexer": "ipython3",
   "version": "3.10.5"
  }
 },
 "nbformat": 4,
 "nbformat_minor": 2
}
