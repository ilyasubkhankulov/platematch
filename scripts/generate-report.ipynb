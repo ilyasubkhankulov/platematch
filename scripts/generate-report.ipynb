{
 "cells": [
  {
   "cell_type": "markdown",
   "metadata": {},
   "source": [
    "#### Download all images from FTP to local filesystem"
   ]
  },
  {
   "cell_type": "code",
   "execution_count": null,
   "metadata": {},
   "outputs": [],
   "source": [
    "import os\n",
    "\n",
    "from dotenv import load_dotenv\n",
    "from ftp import SingletonFTP\n",
    "\n",
    "load_dotenv()\n",
    "host = os.getenv('FTP_HOST')\n",
    "username = os.getenv('FTP_USERNAME')\n",
    "password = os.getenv('FTP_PASSWORD')\n",
    "\n",
    "\n",
    "ftp = SingletonFTP(host, username, password)\n",
    "ftp.download_all('/files/files-mailseth', 'tmp')"
   ]
  },
  {
   "cell_type": "markdown",
   "metadata": {},
   "source": [
    "### Detect objects in frames"
   ]
  },
  {
   "cell_type": "code",
   "execution_count": null,
   "metadata": {},
   "outputs": [],
   "source": [
    "from object_detection import object_detection\n",
    "from tqdm import tqdm\n",
    "import gc\n",
    "\n",
    "image_dir = 'tmp'\n",
    "\n",
    "\n",
    "image_files = [os.path.join(image_dir, f)\n",
    "               for f in os.listdir(image_dir) if f.endswith('.jpg')]\n",
    "image_files_iter = iter(image_files)\n",
    "\n",
    "output_list = []\n",
    "\n",
    "image_files_in_output_list = [output['image_file'] for output in output_list]\n",
    "\n",
    "for image_file in tqdm(image_files_iter):\n",
    "    if image_file not in image_files_in_output_list:\n",
    "        detection_result = object_detection(image_file)\n",
    "        detection_result_json = detection_result.pandas().xyxy[0].to_json()\n",
    "        print('image_file', image_file)\n",
    "        print('detection_result_json', detection_result_json)\n",
    "        output_list.append({\n",
    "            'image_file': image_file,\n",
    "            'detection_result': detection_result_json\n",
    "        })\n",
    "        # Explicitly delete the detection_result and call the garbage collector\n",
    "        del detection_result\n",
    "        gc.collect()"
   ]
  }
 ],
 "metadata": {
  "kernelspec": {
   "display_name": "Python 3 (ipykernel)",
   "language": "python",
   "name": "python3"
  },
  "language_info": {
   "codemirror_mode": {
    "name": "ipython",
    "version": 3
   },
   "file_extension": ".py",
   "mimetype": "text/x-python",
   "name": "python",
   "nbconvert_exporter": "python",
   "pygments_lexer": "ipython3",
   "version": "3.10.5"
  }
 },
 "nbformat": 4,
 "nbformat_minor": 2
}
